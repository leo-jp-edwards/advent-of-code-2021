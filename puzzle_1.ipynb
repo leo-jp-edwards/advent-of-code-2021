{
 "cells": [
  {
   "cell_type": "code",
   "execution_count": 1,
   "metadata": {},
   "outputs": [],
   "source": [
    "example = [\n",
    "    199,\n",
    "    200,\n",
    "    208,\n",
    "    210,\n",
    "    200,\n",
    "    207,\n",
    "    240,\n",
    "    269,\n",
    "    260,\n",
    "    263\n",
    "]"
   ]
  },
  {
   "cell_type": "code",
   "execution_count": 2,
   "metadata": {},
   "outputs": [
    {
     "name": "stdout",
     "output_type": "stream",
     "text": [
      "7\n"
     ]
    }
   ],
   "source": [
    "counter = 0\n",
    "for i in range(len(example) - 1):\n",
    "    if example[i+1] > example[i]:\n",
    "        counter += 1\n",
    "print(counter)"
   ]
  },
  {
   "cell_type": "code",
   "execution_count": 3,
   "metadata": {},
   "outputs": [],
   "source": [
    "with open('day_1_data.txt', 'r') as data:\n",
    "    lines = data.readlines()"
   ]
  },
  {
   "cell_type": "code",
   "execution_count": 4,
   "metadata": {},
   "outputs": [],
   "source": [
    "actual = [int(x) for x in lines]"
   ]
  },
  {
   "cell_type": "code",
   "execution_count": 5,
   "metadata": {},
   "outputs": [
    {
     "name": "stdout",
     "output_type": "stream",
     "text": [
      "7\n"
     ]
    }
   ],
   "source": [
    "counter = 0\n",
    "for i in range(len(example) - 1):\n",
    "    if example[i+1] > example[i]:\n",
    "        counter += 1\n",
    "print(counter)"
   ]
  },
  {
   "cell_type": "code",
   "execution_count": 6,
   "metadata": {},
   "outputs": [],
   "source": [
    "def count_increases(measurements: list):\n",
    "    counter = 0\n",
    "    for i in range(len(measurements) - 1):\n",
    "        if measurements[i+1] > measurements[i]:\n",
    "            counter += 1\n",
    "    return counter"
   ]
  },
  {
   "cell_type": "code",
   "execution_count": 7,
   "metadata": {},
   "outputs": [
    {
     "data": {
      "text/plain": [
       "1390"
      ]
     },
     "execution_count": 7,
     "metadata": {},
     "output_type": "execute_result"
    }
   ],
   "source": [
    "count_increases(actual)"
   ]
  },
  {
   "cell_type": "code",
   "execution_count": 8,
   "metadata": {},
   "outputs": [],
   "source": [
    "def calculate_sliding(measurements: list, window_size: int):\n",
    "    window_sum = sum(measurements[:window_size])\n",
    "    window_sums = [window_sum]\n",
    "    for i in range(len(measurements) - window_size):\n",
    "        window_sum = window_sum - measurements[i] + measurements[i + window_size]\n",
    "        window_sums.append(window_sum)\n",
    "    return window_sums"
   ]
  },
  {
   "cell_type": "code",
   "execution_count": 9,
   "metadata": {},
   "outputs": [],
   "source": [
    "windows = calculate_sliding(actual, 3)"
   ]
  },
  {
   "cell_type": "code",
   "execution_count": 10,
   "metadata": {},
   "outputs": [
    {
     "data": {
      "text/plain": [
       "1457"
      ]
     },
     "execution_count": 10,
     "metadata": {},
     "output_type": "execute_result"
    }
   ],
   "source": [
    "count_increases(windows)"
   ]
  },
  {
   "cell_type": "code",
   "execution_count": null,
   "metadata": {},
   "outputs": [],
   "source": []
  }
 ],
 "metadata": {
  "interpreter": {
   "hash": "fb9c3b1392faee55c5dcbb6a85dda713d2a8436be9b3babb7793131a6d5952bb"
  },
  "kernelspec": {
   "display_name": "Python 3.9.7 64-bit ('analysis-m5GYtwGm': pipenv)",
   "language": "python",
   "name": "python3"
  },
  "language_info": {
   "codemirror_mode": {
    "name": "ipython",
    "version": 3
   },
   "file_extension": ".py",
   "mimetype": "text/x-python",
   "name": "python",
   "nbconvert_exporter": "python",
   "pygments_lexer": "ipython3",
   "version": "3.9.7"
  },
  "orig_nbformat": 4
 },
 "nbformat": 4,
 "nbformat_minor": 2
}
