{
 "cells": [
  {
   "cell_type": "code",
   "execution_count": 1,
   "metadata": {},
   "outputs": [],
   "source": [
    "import numpy as np"
   ]
  },
  {
   "cell_type": "code",
   "execution_count": 2,
   "metadata": {},
   "outputs": [],
   "source": [
    "with open('day_2_data.txt', 'r') as data:\n",
    "    lines = data.readlines()"
   ]
  },
  {
   "cell_type": "code",
   "execution_count": 4,
   "metadata": {},
   "outputs": [],
   "source": [
    "actual = [x.strip().split(' ') for x in lines]"
   ]
  },
  {
   "cell_type": "code",
   "execution_count": 8,
   "metadata": {},
   "outputs": [],
   "source": [
    "horizontal = 0\n",
    "depth = 0\n",
    "for dir in actual:\n",
    "    if dir[0] == \"forward\":\n",
    "        horizontal += int(dir[1])\n",
    "    elif dir[0] == \"down\":\n",
    "        depth += int(dir[1])\n",
    "    elif dir[0] == \"up\":\n",
    "        depth -= int(dir[1])"
   ]
  },
  {
   "cell_type": "code",
   "execution_count": 9,
   "metadata": {},
   "outputs": [
    {
     "data": {
      "text/plain": [
       "2165"
      ]
     },
     "execution_count": 9,
     "metadata": {},
     "output_type": "execute_result"
    }
   ],
   "source": [
    "horizontal"
   ]
  },
  {
   "cell_type": "code",
   "execution_count": 10,
   "metadata": {},
   "outputs": [
    {
     "data": {
      "text/plain": [
       "933"
      ]
     },
     "execution_count": 10,
     "metadata": {},
     "output_type": "execute_result"
    }
   ],
   "source": [
    "depth"
   ]
  },
  {
   "cell_type": "code",
   "execution_count": 11,
   "metadata": {},
   "outputs": [
    {
     "data": {
      "text/plain": [
       "2019945"
      ]
     },
     "execution_count": 11,
     "metadata": {},
     "output_type": "execute_result"
    }
   ],
   "source": [
    "horizontal * depth"
   ]
  },
  {
   "cell_type": "markdown",
   "metadata": {},
   "source": [
    "\n",
    "    down X increases your aim by X units.\n",
    "    up X decreases your aim by X units.\n",
    "    forward X does two things:\n",
    "        It increases your horizontal position by X units.\n",
    "        It increases your depth by your aim multiplied by X.\n"
   ]
  },
  {
   "cell_type": "code",
   "execution_count": 16,
   "metadata": {},
   "outputs": [],
   "source": [
    "horizontal = 0\n",
    "depth = 0\n",
    "aim = 0\n",
    "for dir in actual:\n",
    "    if dir[0] == \"forward\":\n",
    "        horizontal += int(dir[1])\n",
    "        depth += (aim * int(dir[1]))\n",
    "    elif dir[0] == \"down\":\n",
    "        depth += int(dir[1])\n",
    "        aim += int(dir[1])\n",
    "    elif dir[0] == \"up\":\n",
    "        depth -= int(dir[1])\n",
    "        aim -= int(dir[1])"
   ]
  },
  {
   "cell_type": "code",
   "execution_count": 17,
   "metadata": {},
   "outputs": [
    {
     "data": {
      "text/plain": [
       "1601331425"
      ]
     },
     "execution_count": 17,
     "metadata": {},
     "output_type": "execute_result"
    }
   ],
   "source": [
    "horizontal * depth"
   ]
  },
  {
   "cell_type": "markdown",
   "metadata": {},
   "source": [
    "\n",
    "    forward 5 adds 5 to your horizontal position, a total of 5. Because your aim is 0, your depth does not change.\n",
    "    down 5 adds 5 to your aim, resulting in a value of 5.\n",
    "    forward 8 adds 8 to your horizontal position, a total of 13. Because your aim is 5, your depth increases by 8*5=40.\n",
    "    up 3 decreases your aim by 3, resulting in a value of 2.\n",
    "    down 8 adds 8 to your aim, resulting in a value of 10.\n",
    "    forward 2 adds 2 to your horizontal position, a total of 15. Because your aim is 10, your depth increases by 2*10=20 to a total of 60.\n"
   ]
  },
  {
   "cell_type": "code",
   "execution_count": 28,
   "metadata": {},
   "outputs": [],
   "source": [
    "test = [\n",
    "    [\"forward\", \"5\"],\n",
    "    [\"down\", \"5\"], \n",
    "    [\"forward\", \"8\"],\n",
    "    [\"up\", \"3\"],\n",
    "    [\"down\", \"8\"], \n",
    "    [\"forward\", \"2\"]\n",
    "]"
   ]
  },
  {
   "cell_type": "code",
   "execution_count": 32,
   "metadata": {},
   "outputs": [
    {
     "name": "stdout",
     "output_type": "stream",
     "text": [
      "H :5, D: 0, A: 0\n",
      "H :5, D: 0, A: 5\n",
      "H :13, D: 40, A: 5\n",
      "H :13, D: 40, A: 2\n",
      "H :13, D: 40, A: 10\n",
      "H :15, D: 60, A: 10\n"
     ]
    }
   ],
   "source": [
    "horizontal = 0\n",
    "depth = 0\n",
    "aim = 0\n",
    "for dir in test:\n",
    "    if dir[0] == \"forward\":\n",
    "        horizontal += int(dir[1])\n",
    "        depth += (aim * int(dir[1]))\n",
    "    elif dir[0] == \"down\":\n",
    "        aim += int(dir[1])\n",
    "    elif dir[0] == \"up\":\n",
    "        aim -= int(dir[1])\n",
    "    print(f\"H :{horizontal}, D: {depth}, A: {aim}\")"
   ]
  },
  {
   "cell_type": "code",
   "execution_count": 30,
   "metadata": {},
   "outputs": [
    {
     "data": {
      "text/plain": [
       "15"
      ]
     },
     "execution_count": 30,
     "metadata": {},
     "output_type": "execute_result"
    }
   ],
   "source": [
    "horizontal"
   ]
  },
  {
   "cell_type": "code",
   "execution_count": 31,
   "metadata": {},
   "outputs": [
    {
     "data": {
      "text/plain": [
       "60"
      ]
     },
     "execution_count": 31,
     "metadata": {},
     "output_type": "execute_result"
    }
   ],
   "source": [
    "depth"
   ]
  },
  {
   "cell_type": "code",
   "execution_count": 34,
   "metadata": {},
   "outputs": [
    {
     "name": "stdout",
     "output_type": "stream",
     "text": [
      "Result :1599311480\n"
     ]
    }
   ],
   "source": [
    "horizontal = 0\n",
    "depth = 0\n",
    "aim = 0\n",
    "for dir in actual:\n",
    "    if dir[0] == \"forward\":\n",
    "        horizontal += int(dir[1])\n",
    "        depth += (aim * int(dir[1]))\n",
    "    elif dir[0] == \"down\":\n",
    "        aim += int(dir[1])\n",
    "    elif dir[0] == \"up\":\n",
    "        aim -= int(dir[1])\n",
    "print(f\"Result :{horizontal * depth}\")"
   ]
  },
  {
   "cell_type": "code",
   "execution_count": null,
   "metadata": {},
   "outputs": [],
   "source": []
  }
 ],
 "metadata": {
  "interpreter": {
   "hash": "0351938160cbefe348df316e49060979e65dd04b85edb94e446728bc9bd7455f"
  },
  "kernelspec": {
   "display_name": "Python 3.9.7 64-bit ('analysis-czbTqAFf-py3.9': poetry)",
   "language": "python",
   "name": "python3"
  },
  "language_info": {
   "codemirror_mode": {
    "name": "ipython",
    "version": 3
   },
   "file_extension": ".py",
   "mimetype": "text/x-python",
   "name": "python",
   "nbconvert_exporter": "python",
   "pygments_lexer": "ipython3",
   "version": "3.9.9"
  },
  "orig_nbformat": 4
 },
 "nbformat": 4,
 "nbformat_minor": 2
}
